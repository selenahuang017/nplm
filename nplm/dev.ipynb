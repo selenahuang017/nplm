{
 "cells": [
  {
   "cell_type": "markdown",
   "id": "3ce72ca8-7016-4f9f-9e43-645e8a74cac7",
   "metadata": {},
   "source": [
    "Preprocessing (required) Write a script that:\n",
    "\n",
    "- Reads raw data,\n",
    "- Splits into documents (your choice — paragraphs, sentences, wiki articles, etc.; be explicit, and feel free to err towards whatever divisions the raw corpus seems to make most natural),\n",
    "- Generates a train/test split, or train/val/test split, with controllable proportions (supplied as CLI arguments)\n",
    "- Writes JSONL shards to data/<corpus-name>/<train\\test\\split>/shard_<n>.jsonl with --shard_size docs per file.\n"
   ]
  },
  {
   "cell_type": "code",
   "execution_count": 16,
   "id": "8627f862-7d57-4b90-a64d-1a6a64086512",
   "metadata": {},
   "outputs": [],
   "source": [
    "from nltk.corpus import brown\n",
    "from sklearn.model_selection import train_test_split"
   ]
  },
  {
   "cell_type": "code",
   "execution_count": 11,
   "id": "129341be-a131-47ec-9297-bc38b3f245c0",
   "metadata": {},
   "outputs": [
    {
     "data": {
      "text/plain": [
       "1161192"
      ]
     },
     "execution_count": 11,
     "metadata": {},
     "output_type": "execute_result"
    }
   ],
   "source": [
    "len(brown.words())"
   ]
  },
  {
   "cell_type": "code",
   "execution_count": 9,
   "id": "cf250475-3759-4f37-bc68-85a6e34c7fd5",
   "metadata": {},
   "outputs": [
    {
     "data": {
      "text/plain": [
       "57340"
      ]
     },
     "execution_count": 9,
     "metadata": {},
     "output_type": "execute_result"
    }
   ],
   "source": [
    "len(brown.sents())"
   ]
  },
  {
   "cell_type": "code",
   "execution_count": 14,
   "id": "6206693b-1d01-4024-ae25-d076efad91e3",
   "metadata": {},
   "outputs": [
    {
     "data": {
      "text/plain": [
       "nltk.corpus.reader.util.ConcatenatedCorpusView"
      ]
     },
     "execution_count": 14,
     "metadata": {},
     "output_type": "execute_result"
    }
   ],
   "source": [
    "type(brown.sents())"
   ]
  },
  {
   "cell_type": "code",
   "execution_count": 18,
   "id": "09d459c9-1fe1-4799-83a4-a210b62d7315",
   "metadata": {},
   "outputs": [],
   "source": [
    "X_train, X_test = train_test_split(\n",
    "    brown.sents(), test_size=0.2, random_state=42)"
   ]
  },
  {
   "cell_type": "code",
   "execution_count": 20,
   "id": "b67bd1b5-bce1-4049-a7a6-cb66149e9d36",
   "metadata": {},
   "outputs": [
    {
     "name": "stdout",
     "output_type": "stream",
     "text": [
      "45872 11468\n"
     ]
    }
   ],
   "source": [
    "print(len(X_train), len( X_test))"
   ]
  },
  {
   "cell_type": "code",
   "execution_count": 21,
   "id": "fedd2da3-1c95-482a-9237-2e7b58a39965",
   "metadata": {},
   "outputs": [],
   "source": [
    "X_train, X_val = train_test_split(\n",
    "    X_train, test_size=0.1, random_state=42)"
   ]
  },
  {
   "cell_type": "code",
   "execution_count": 22,
   "id": "c2a81728-10d5-4817-81c9-8e8b4eec4378",
   "metadata": {},
   "outputs": [
    {
     "name": "stdout",
     "output_type": "stream",
     "text": [
      "41284 4588\n"
     ]
    }
   ],
   "source": [
    "print(len(X_train), len( X_val))"
   ]
  },
  {
   "cell_type": "code",
   "execution_count": 23,
   "id": "de688649-fe7e-4397-a55e-d2e1802aaeec",
   "metadata": {},
   "outputs": [
    {
     "data": {
      "text/plain": [
       "['``', \"It'll\", 'take', 'a', 'lot', 'to', 'replace', 'it', \"''\", '.']"
      ]
     },
     "execution_count": 23,
     "metadata": {},
     "output_type": "execute_result"
    }
   ],
   "source": [
    "X_train[0]"
   ]
  },
  {
   "cell_type": "code",
   "execution_count": 10,
   "id": "558ee373-448f-47df-88f9-471ff5416180",
   "metadata": {},
   "outputs": [
    {
     "data": {
      "text/plain": [
       "15667"
      ]
     },
     "execution_count": 10,
     "metadata": {},
     "output_type": "execute_result"
    }
   ],
   "source": [
    "len(brown.paras())"
   ]
  },
  {
   "cell_type": "code",
   "execution_count": null,
   "id": "3d34dcaf-cafa-4865-ad22-cc1a0280dc38",
   "metadata": {},
   "outputs": [],
   "source": []
  }
 ],
 "metadata": {
  "kernelspec": {
   "display_name": "Python (LLMs)",
   "language": "python",
   "name": "llm"
  },
  "language_info": {
   "codemirror_mode": {
    "name": "ipython",
    "version": 3
   },
   "file_extension": ".py",
   "mimetype": "text/x-python",
   "name": "python",
   "nbconvert_exporter": "python",
   "pygments_lexer": "ipython3",
   "version": "3.10.18"
  }
 },
 "nbformat": 4,
 "nbformat_minor": 5
}
